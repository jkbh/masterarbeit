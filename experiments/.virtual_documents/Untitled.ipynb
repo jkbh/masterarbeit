import pdfplumber


pdf = pdfplumber.open("./data/studies_in_manuscript_cultures/36.pdf")


page = pdf.pages[500]
im = page.to_image()
lines = page.extract_words(keep_blank_chars=True, extra_attrs=("size",))
im.draw_rects(lines)


from collections import Counter
blocks = []
for page in pdf.pages:
    lines = page.extract_words(keep_blank_chars=True, extra_attrs=("size",))
    last_size = -1
    for line in lines:
        size = round(line["size"], 2)
        text = line["text"]
        if last_size == size:
            blocks[-1][1] = "".join([blocks[-1][1], text])    
        else:
            blocks.append([round(size), text])
        last_size = size


unique_sizes = sorted(set(block[0] for block in blocks), reverse=True)
for block in blocks:
    level = unique_sizes.index(block[0])
    spaces = "-"*level*2
    print(f"level{level}\t {spaces}", end="")
    print(block[1])
