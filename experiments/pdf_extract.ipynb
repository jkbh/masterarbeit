{
 "cells": [
  {
   "cell_type": "code",
   "execution_count": 1,
   "metadata": {},
   "outputs": [],
   "source": [
    "from langchain.document_loaders import PDFMinerLoader\n",
    "from llmsherpa.readers import LayoutPDFReader, LayoutReader"
   ]
  },
  {
   "cell_type": "code",
   "execution_count": 2,
   "metadata": {},
   "outputs": [],
   "source": [
    "reader = LayoutPDFReader(\"https://readers.llmsherpa.com/api/document/developer/parseDocument?renderFormat=all\")\n",
    "pdf_url = \"./data/studies_in_manuscript_cultures/36.pdf\"\n",
    "# loader = PDFMinerLoader(\"./data/studies_in_manuscript_cultures/36.pdf\")"
   ]
  },
  {
   "cell_type": "code",
   "execution_count": 4,
   "metadata": {},
   "outputs": [],
   "source": [
    "doc = reader.read_pdf(pdf_url)"
   ]
  },
  {
   "cell_type": "code",
   "execution_count": 9,
   "metadata": {},
   "outputs": [],
   "source": [
    "import json\n",
    "with open(\"doc.json\", \"w\") as f:\n",
    "    json.dump(doc.json, f, indent=2)"
   ]
  },
  {
   "cell_type": "code",
   "execution_count": 4,
   "metadata": {},
   "outputs": [],
   "source": [
    "import json\n",
    "reader = LayoutReader()\n",
    "\n",
    "doc = reader.read(json.load(open(\"doc.json\")))"
   ]
  },
  {
   "cell_type": "code",
   "execution_count": 54,
   "metadata": {},
   "outputs": [
    {
     "name": "stdout",
     "output_type": "stream",
     "text": [
      "[<llmsherpa.readers.layout_reader.Block object at 0x7fcdb98cd900>, <llmsherpa.readers.layout_reader.Section object at 0x7fcdb06d6b30>, <llmsherpa.readers.layout_reader.Section object at 0x7fcdb06d6200>, <llmsherpa.readers.layout_reader.Section object at 0x7fcdb06d5f30>]\n"
     ]
    }
   ],
   "source": [
    "p = doc.paragraphs()[35]\n",
    "print(f\"{p.parent_chain()}\")"
   ]
  }
 ],
 "metadata": {
  "kernelspec": {
   "display_name": ".venv",
   "language": "python",
   "name": "python3"
  },
  "language_info": {
   "codemirror_mode": {
    "name": "ipython",
    "version": 3
   },
   "file_extension": ".py",
   "mimetype": "text/x-python",
   "name": "python",
   "nbconvert_exporter": "python",
   "pygments_lexer": "ipython3",
   "version": "3.10.12"
  }
 },
 "nbformat": 4,
 "nbformat_minor": 2
}
